{
  "nbformat": 4,
  "nbformat_minor": 0,
  "metadata": {
    "colab": {
      "provenance": []
    },
    "kernelspec": {
      "name": "python3",
      "display_name": "Python 3"
    },
    "language_info": {
      "name": "python"
    }
  },
  "cells": [
    {
      "cell_type": "markdown",
      "source": [
        "# Airline Social Media Analytics Dashboard\n",
        "\n",
        "## Project Overview\n",
        "An end-to-end data analytics project analyzing customer sentiment and engagement across major airlines using Twitter data. The project includes data collection, cleaning, analysis, and interactive visualization of customer feedback and sentiment patterns.\n",
        "\n",
        "## Technical Stack\n",
        "- **Python** - Core programming language\n",
        "- **Pandas** - Data manipulation and analysis\n",
        "- **Streamlit** - Interactive dashboard creation\n",
        "- **Plotly** - Data visualization\n",
        "\n",
        "## Dataset\n",
        "- Source: Twitter Airline Sentiment Dataset from Kaggle\n",
        "- Size: 14,487 tweets\n",
        "- Features: Tweet content, airline, sentiment, timestamp\n",
        "- Time Period: February 2015\n",
        "- Airlines Covered: American, Delta, Southwest, United, US Airways, Virgin America\n",
        "\n",
        "## Methodology\n",
        "1. **Data Collection & Cleaning**\n",
        "   - Loaded data using Pandas\n",
        "   - Handled missing values\n",
        "   - Created derived features (tweet length, hour of day, day of week)\n",
        "   - Normalized text data\n",
        "\n",
        "2. **Analysis Pipeline**\n",
        "   - Sentiment analysis by airline\n",
        "   - Temporal pattern analysis\n",
        "   - Tweet volume analysis\n",
        "   - Content length analysis\n",
        "\n",
        "3. **Visualization**\n",
        "   - Interactive dashboard using Streamlit\n",
        "   - Real-time filtering capabilities\n",
        "   - Multiple visualization types (bar charts, line plots, pie charts)"
      ],
      "metadata": {
        "id": "tJG_1KK8ZV8k"
      }
    },
    {
      "cell_type": "markdown",
      "source": [
        "### Data Collection & Setup\n",
        "\n",
        "This project uses the Twitter US Airline Sentiment dataset from Kaggle. To access the data:\n",
        "\n",
        "1. Requirements:\n",
        "   - Kaggle account\n",
        "   - Kaggle API credentials (kaggle.json file)\n",
        "\n",
        "2. Getting Your Credentials:\n",
        "   - Log in to Kaggle\n",
        "   - Go to Account Settings\n",
        "   - Scroll to API section\n",
        "   - Click \"Create New API Token\"\n",
        "   - This will download a kaggle.json file\n",
        "\n",
        "3. Run the setup code below and upload your kaggle.json when prompted\n",
        "\n",
        "Note: The kaggle.json file contains your private credentials. Never share this file or include it in your shared notebook."
      ],
      "metadata": {
        "id": "VdbvDwLqvkKX"
      }
    },
    {
      "cell_type": "code",
      "source": [
        "# Setup Instructions\n",
        "\"\"\"\n",
        "To run this notebook, you'll need:\n",
        "1. A Kaggle account and API credentials:\n",
        "   - Go to kaggle.com and sign up/login\n",
        "   - Go to 'Account' -> 'Create API Token'\n",
        "   - Download 'kaggle.json' file\n",
        "\n",
        "2. Run the following setup code:\n",
        "\"\"\"\n",
        "\n",
        "# Install required package\n",
        "!pip install kaggle\n",
        "\n",
        "# Upload your Kaggle credentials\n",
        "from google.colab import files\n",
        "print(\"Please upload your kaggle.json file when prompted\")\n",
        "files.upload()  # This will prompt you to upload your kaggle.json\n",
        "\n",
        "# Set up Kaggle credentials\n",
        "!mkdir -p ~/.kaggle\n",
        "!cp kaggle.json ~/.kaggle/\n",
        "!chmod 600 ~/.kaggle/kaggle.json\n",
        "\n",
        "\"\"\"\n",
        "Note: Your kaggle.json file contains private credentials and will not be saved\n",
        "in the notebook. You'll need to upload it each time you run this notebook.\n",
        "\"\"\""
      ],
      "metadata": {
        "id": "kYTypQwwJS38"
      },
      "execution_count": null,
      "outputs": []
    },
    {
      "cell_type": "code",
      "source": [
        "# Download the dataset\n",
        "!kaggle datasets download crowdflower/twitter-airline-sentiment --path ./data\n",
        "!unzip ./data/twitter-airline-sentiment.zip -d ./data"
      ],
      "metadata": {
        "colab": {
          "base_uri": "https://localhost:8080/"
        },
        "id": "IFsTs2VbHnzH",
        "outputId": "9f2a8771-a522-4a2c-a106-090e4a42da40"
      },
      "execution_count": 2,
      "outputs": [
        {
          "output_type": "stream",
          "name": "stdout",
          "text": [
            "Dataset URL: https://www.kaggle.com/datasets/crowdflower/twitter-airline-sentiment\n",
            "License(s): CC-BY-NC-SA-4.0\n",
            "Downloading twitter-airline-sentiment.zip to ./data\n",
            "  0% 0.00/2.55M [00:00<?, ?B/s]\n",
            "100% 2.55M/2.55M [00:00<00:00, 53.4MB/s]\n",
            "Archive:  ./data/twitter-airline-sentiment.zip\n",
            "  inflating: ./data/Tweets.csv       \n",
            "  inflating: ./data/database.sqlite  \n"
          ]
        }
      ]
    },
    {
      "cell_type": "markdown",
      "source": [
        "### Data Exploration & Cleaning"
      ],
      "metadata": {
        "id": "RDHTVV00v042"
      }
    },
    {
      "cell_type": "code",
      "source": [
        "# Import necessary libraries\n",
        "import pandas as pd\n",
        "import numpy as np\n",
        "import matplotlib.pyplot as plt\n",
        "import seaborn as sns"
      ],
      "metadata": {
        "id": "ivjnjOWcaGVc"
      },
      "execution_count": 3,
      "outputs": []
    },
    {
      "cell_type": "code",
      "source": [
        "# Load & read the dataset\n",
        "df = pd.read_csv('data/Tweets.csv')\n",
        "display(df.head())"
      ],
      "metadata": {
        "colab": {
          "base_uri": "https://localhost:8080/",
          "height": 452
        },
        "id": "Z7MFvtOcI-53",
        "outputId": "fdcfcc90-d36b-4cbd-d189-4951f55fd748"
      },
      "execution_count": 4,
      "outputs": [
        {
          "output_type": "display_data",
          "data": {
            "text/plain": [
              "             tweet_id airline_sentiment  airline_sentiment_confidence  \\\n",
              "0  570306133677760513           neutral                        1.0000   \n",
              "1  570301130888122368          positive                        0.3486   \n",
              "2  570301083672813571           neutral                        0.6837   \n",
              "3  570301031407624196          negative                        1.0000   \n",
              "4  570300817074462722          negative                        1.0000   \n",
              "\n",
              "  negativereason  negativereason_confidence         airline  \\\n",
              "0            NaN                        NaN  Virgin America   \n",
              "1            NaN                     0.0000  Virgin America   \n",
              "2            NaN                        NaN  Virgin America   \n",
              "3     Bad Flight                     0.7033  Virgin America   \n",
              "4     Can't Tell                     1.0000  Virgin America   \n",
              "\n",
              "  airline_sentiment_gold        name negativereason_gold  retweet_count  \\\n",
              "0                    NaN     cairdin                 NaN              0   \n",
              "1                    NaN    jnardino                 NaN              0   \n",
              "2                    NaN  yvonnalynn                 NaN              0   \n",
              "3                    NaN    jnardino                 NaN              0   \n",
              "4                    NaN    jnardino                 NaN              0   \n",
              "\n",
              "                                                text tweet_coord  \\\n",
              "0                @VirginAmerica What @dhepburn said.         NaN   \n",
              "1  @VirginAmerica plus you've added commercials t...         NaN   \n",
              "2  @VirginAmerica I didn't today... Must mean I n...         NaN   \n",
              "3  @VirginAmerica it's really aggressive to blast...         NaN   \n",
              "4  @VirginAmerica and it's a really big bad thing...         NaN   \n",
              "\n",
              "               tweet_created tweet_location               user_timezone  \n",
              "0  2015-02-24 11:35:52 -0800            NaN  Eastern Time (US & Canada)  \n",
              "1  2015-02-24 11:15:59 -0800            NaN  Pacific Time (US & Canada)  \n",
              "2  2015-02-24 11:15:48 -0800      Lets Play  Central Time (US & Canada)  \n",
              "3  2015-02-24 11:15:36 -0800            NaN  Pacific Time (US & Canada)  \n",
              "4  2015-02-24 11:14:45 -0800            NaN  Pacific Time (US & Canada)  "
            ],
            "text/html": [
              "\n",
              "  <div id=\"df-d27405ac-0541-40f7-af8b-a126e32108c8\" class=\"colab-df-container\">\n",
              "    <div>\n",
              "<style scoped>\n",
              "    .dataframe tbody tr th:only-of-type {\n",
              "        vertical-align: middle;\n",
              "    }\n",
              "\n",
              "    .dataframe tbody tr th {\n",
              "        vertical-align: top;\n",
              "    }\n",
              "\n",
              "    .dataframe thead th {\n",
              "        text-align: right;\n",
              "    }\n",
              "</style>\n",
              "<table border=\"1\" class=\"dataframe\">\n",
              "  <thead>\n",
              "    <tr style=\"text-align: right;\">\n",
              "      <th></th>\n",
              "      <th>tweet_id</th>\n",
              "      <th>airline_sentiment</th>\n",
              "      <th>airline_sentiment_confidence</th>\n",
              "      <th>negativereason</th>\n",
              "      <th>negativereason_confidence</th>\n",
              "      <th>airline</th>\n",
              "      <th>airline_sentiment_gold</th>\n",
              "      <th>name</th>\n",
              "      <th>negativereason_gold</th>\n",
              "      <th>retweet_count</th>\n",
              "      <th>text</th>\n",
              "      <th>tweet_coord</th>\n",
              "      <th>tweet_created</th>\n",
              "      <th>tweet_location</th>\n",
              "      <th>user_timezone</th>\n",
              "    </tr>\n",
              "  </thead>\n",
              "  <tbody>\n",
              "    <tr>\n",
              "      <th>0</th>\n",
              "      <td>570306133677760513</td>\n",
              "      <td>neutral</td>\n",
              "      <td>1.0000</td>\n",
              "      <td>NaN</td>\n",
              "      <td>NaN</td>\n",
              "      <td>Virgin America</td>\n",
              "      <td>NaN</td>\n",
              "      <td>cairdin</td>\n",
              "      <td>NaN</td>\n",
              "      <td>0</td>\n",
              "      <td>@VirginAmerica What @dhepburn said.</td>\n",
              "      <td>NaN</td>\n",
              "      <td>2015-02-24 11:35:52 -0800</td>\n",
              "      <td>NaN</td>\n",
              "      <td>Eastern Time (US &amp; Canada)</td>\n",
              "    </tr>\n",
              "    <tr>\n",
              "      <th>1</th>\n",
              "      <td>570301130888122368</td>\n",
              "      <td>positive</td>\n",
              "      <td>0.3486</td>\n",
              "      <td>NaN</td>\n",
              "      <td>0.0000</td>\n",
              "      <td>Virgin America</td>\n",
              "      <td>NaN</td>\n",
              "      <td>jnardino</td>\n",
              "      <td>NaN</td>\n",
              "      <td>0</td>\n",
              "      <td>@VirginAmerica plus you've added commercials t...</td>\n",
              "      <td>NaN</td>\n",
              "      <td>2015-02-24 11:15:59 -0800</td>\n",
              "      <td>NaN</td>\n",
              "      <td>Pacific Time (US &amp; Canada)</td>\n",
              "    </tr>\n",
              "    <tr>\n",
              "      <th>2</th>\n",
              "      <td>570301083672813571</td>\n",
              "      <td>neutral</td>\n",
              "      <td>0.6837</td>\n",
              "      <td>NaN</td>\n",
              "      <td>NaN</td>\n",
              "      <td>Virgin America</td>\n",
              "      <td>NaN</td>\n",
              "      <td>yvonnalynn</td>\n",
              "      <td>NaN</td>\n",
              "      <td>0</td>\n",
              "      <td>@VirginAmerica I didn't today... Must mean I n...</td>\n",
              "      <td>NaN</td>\n",
              "      <td>2015-02-24 11:15:48 -0800</td>\n",
              "      <td>Lets Play</td>\n",
              "      <td>Central Time (US &amp; Canada)</td>\n",
              "    </tr>\n",
              "    <tr>\n",
              "      <th>3</th>\n",
              "      <td>570301031407624196</td>\n",
              "      <td>negative</td>\n",
              "      <td>1.0000</td>\n",
              "      <td>Bad Flight</td>\n",
              "      <td>0.7033</td>\n",
              "      <td>Virgin America</td>\n",
              "      <td>NaN</td>\n",
              "      <td>jnardino</td>\n",
              "      <td>NaN</td>\n",
              "      <td>0</td>\n",
              "      <td>@VirginAmerica it's really aggressive to blast...</td>\n",
              "      <td>NaN</td>\n",
              "      <td>2015-02-24 11:15:36 -0800</td>\n",
              "      <td>NaN</td>\n",
              "      <td>Pacific Time (US &amp; Canada)</td>\n",
              "    </tr>\n",
              "    <tr>\n",
              "      <th>4</th>\n",
              "      <td>570300817074462722</td>\n",
              "      <td>negative</td>\n",
              "      <td>1.0000</td>\n",
              "      <td>Can't Tell</td>\n",
              "      <td>1.0000</td>\n",
              "      <td>Virgin America</td>\n",
              "      <td>NaN</td>\n",
              "      <td>jnardino</td>\n",
              "      <td>NaN</td>\n",
              "      <td>0</td>\n",
              "      <td>@VirginAmerica and it's a really big bad thing...</td>\n",
              "      <td>NaN</td>\n",
              "      <td>2015-02-24 11:14:45 -0800</td>\n",
              "      <td>NaN</td>\n",
              "      <td>Pacific Time (US &amp; Canada)</td>\n",
              "    </tr>\n",
              "  </tbody>\n",
              "</table>\n",
              "</div>\n",
              "    <div class=\"colab-df-buttons\">\n",
              "\n",
              "  <div class=\"colab-df-container\">\n",
              "    <button class=\"colab-df-convert\" onclick=\"convertToInteractive('df-d27405ac-0541-40f7-af8b-a126e32108c8')\"\n",
              "            title=\"Convert this dataframe to an interactive table.\"\n",
              "            style=\"display:none;\">\n",
              "\n",
              "  <svg xmlns=\"http://www.w3.org/2000/svg\" height=\"24px\" viewBox=\"0 -960 960 960\">\n",
              "    <path d=\"M120-120v-720h720v720H120Zm60-500h600v-160H180v160Zm220 220h160v-160H400v160Zm0 220h160v-160H400v160ZM180-400h160v-160H180v160Zm440 0h160v-160H620v160ZM180-180h160v-160H180v160Zm440 0h160v-160H620v160Z\"/>\n",
              "  </svg>\n",
              "    </button>\n",
              "\n",
              "  <style>\n",
              "    .colab-df-container {\n",
              "      display:flex;\n",
              "      gap: 12px;\n",
              "    }\n",
              "\n",
              "    .colab-df-convert {\n",
              "      background-color: #E8F0FE;\n",
              "      border: none;\n",
              "      border-radius: 50%;\n",
              "      cursor: pointer;\n",
              "      display: none;\n",
              "      fill: #1967D2;\n",
              "      height: 32px;\n",
              "      padding: 0 0 0 0;\n",
              "      width: 32px;\n",
              "    }\n",
              "\n",
              "    .colab-df-convert:hover {\n",
              "      background-color: #E2EBFA;\n",
              "      box-shadow: 0px 1px 2px rgba(60, 64, 67, 0.3), 0px 1px 3px 1px rgba(60, 64, 67, 0.15);\n",
              "      fill: #174EA6;\n",
              "    }\n",
              "\n",
              "    .colab-df-buttons div {\n",
              "      margin-bottom: 4px;\n",
              "    }\n",
              "\n",
              "    [theme=dark] .colab-df-convert {\n",
              "      background-color: #3B4455;\n",
              "      fill: #D2E3FC;\n",
              "    }\n",
              "\n",
              "    [theme=dark] .colab-df-convert:hover {\n",
              "      background-color: #434B5C;\n",
              "      box-shadow: 0px 1px 3px 1px rgba(0, 0, 0, 0.15);\n",
              "      filter: drop-shadow(0px 1px 2px rgba(0, 0, 0, 0.3));\n",
              "      fill: #FFFFFF;\n",
              "    }\n",
              "  </style>\n",
              "\n",
              "    <script>\n",
              "      const buttonEl =\n",
              "        document.querySelector('#df-d27405ac-0541-40f7-af8b-a126e32108c8 button.colab-df-convert');\n",
              "      buttonEl.style.display =\n",
              "        google.colab.kernel.accessAllowed ? 'block' : 'none';\n",
              "\n",
              "      async function convertToInteractive(key) {\n",
              "        const element = document.querySelector('#df-d27405ac-0541-40f7-af8b-a126e32108c8');\n",
              "        const dataTable =\n",
              "          await google.colab.kernel.invokeFunction('convertToInteractive',\n",
              "                                                    [key], {});\n",
              "        if (!dataTable) return;\n",
              "\n",
              "        const docLinkHtml = 'Like what you see? Visit the ' +\n",
              "          '<a target=\"_blank\" href=https://colab.research.google.com/notebooks/data_table.ipynb>data table notebook</a>'\n",
              "          + ' to learn more about interactive tables.';\n",
              "        element.innerHTML = '';\n",
              "        dataTable['output_type'] = 'display_data';\n",
              "        await google.colab.output.renderOutput(dataTable, element);\n",
              "        const docLink = document.createElement('div');\n",
              "        docLink.innerHTML = docLinkHtml;\n",
              "        element.appendChild(docLink);\n",
              "      }\n",
              "    </script>\n",
              "  </div>\n",
              "\n",
              "\n",
              "<div id=\"df-618e58a2-fbb1-4641-b46e-ad619d03dd0b\">\n",
              "  <button class=\"colab-df-quickchart\" onclick=\"quickchart('df-618e58a2-fbb1-4641-b46e-ad619d03dd0b')\"\n",
              "            title=\"Suggest charts\"\n",
              "            style=\"display:none;\">\n",
              "\n",
              "<svg xmlns=\"http://www.w3.org/2000/svg\" height=\"24px\"viewBox=\"0 0 24 24\"\n",
              "     width=\"24px\">\n",
              "    <g>\n",
              "        <path d=\"M19 3H5c-1.1 0-2 .9-2 2v14c0 1.1.9 2 2 2h14c1.1 0 2-.9 2-2V5c0-1.1-.9-2-2-2zM9 17H7v-7h2v7zm4 0h-2V7h2v10zm4 0h-2v-4h2v4z\"/>\n",
              "    </g>\n",
              "</svg>\n",
              "  </button>\n",
              "\n",
              "<style>\n",
              "  .colab-df-quickchart {\n",
              "      --bg-color: #E8F0FE;\n",
              "      --fill-color: #1967D2;\n",
              "      --hover-bg-color: #E2EBFA;\n",
              "      --hover-fill-color: #174EA6;\n",
              "      --disabled-fill-color: #AAA;\n",
              "      --disabled-bg-color: #DDD;\n",
              "  }\n",
              "\n",
              "  [theme=dark] .colab-df-quickchart {\n",
              "      --bg-color: #3B4455;\n",
              "      --fill-color: #D2E3FC;\n",
              "      --hover-bg-color: #434B5C;\n",
              "      --hover-fill-color: #FFFFFF;\n",
              "      --disabled-bg-color: #3B4455;\n",
              "      --disabled-fill-color: #666;\n",
              "  }\n",
              "\n",
              "  .colab-df-quickchart {\n",
              "    background-color: var(--bg-color);\n",
              "    border: none;\n",
              "    border-radius: 50%;\n",
              "    cursor: pointer;\n",
              "    display: none;\n",
              "    fill: var(--fill-color);\n",
              "    height: 32px;\n",
              "    padding: 0;\n",
              "    width: 32px;\n",
              "  }\n",
              "\n",
              "  .colab-df-quickchart:hover {\n",
              "    background-color: var(--hover-bg-color);\n",
              "    box-shadow: 0 1px 2px rgba(60, 64, 67, 0.3), 0 1px 3px 1px rgba(60, 64, 67, 0.15);\n",
              "    fill: var(--button-hover-fill-color);\n",
              "  }\n",
              "\n",
              "  .colab-df-quickchart-complete:disabled,\n",
              "  .colab-df-quickchart-complete:disabled:hover {\n",
              "    background-color: var(--disabled-bg-color);\n",
              "    fill: var(--disabled-fill-color);\n",
              "    box-shadow: none;\n",
              "  }\n",
              "\n",
              "  .colab-df-spinner {\n",
              "    border: 2px solid var(--fill-color);\n",
              "    border-color: transparent;\n",
              "    border-bottom-color: var(--fill-color);\n",
              "    animation:\n",
              "      spin 1s steps(1) infinite;\n",
              "  }\n",
              "\n",
              "  @keyframes spin {\n",
              "    0% {\n",
              "      border-color: transparent;\n",
              "      border-bottom-color: var(--fill-color);\n",
              "      border-left-color: var(--fill-color);\n",
              "    }\n",
              "    20% {\n",
              "      border-color: transparent;\n",
              "      border-left-color: var(--fill-color);\n",
              "      border-top-color: var(--fill-color);\n",
              "    }\n",
              "    30% {\n",
              "      border-color: transparent;\n",
              "      border-left-color: var(--fill-color);\n",
              "      border-top-color: var(--fill-color);\n",
              "      border-right-color: var(--fill-color);\n",
              "    }\n",
              "    40% {\n",
              "      border-color: transparent;\n",
              "      border-right-color: var(--fill-color);\n",
              "      border-top-color: var(--fill-color);\n",
              "    }\n",
              "    60% {\n",
              "      border-color: transparent;\n",
              "      border-right-color: var(--fill-color);\n",
              "    }\n",
              "    80% {\n",
              "      border-color: transparent;\n",
              "      border-right-color: var(--fill-color);\n",
              "      border-bottom-color: var(--fill-color);\n",
              "    }\n",
              "    90% {\n",
              "      border-color: transparent;\n",
              "      border-bottom-color: var(--fill-color);\n",
              "    }\n",
              "  }\n",
              "</style>\n",
              "\n",
              "  <script>\n",
              "    async function quickchart(key) {\n",
              "      const quickchartButtonEl =\n",
              "        document.querySelector('#' + key + ' button');\n",
              "      quickchartButtonEl.disabled = true;  // To prevent multiple clicks.\n",
              "      quickchartButtonEl.classList.add('colab-df-spinner');\n",
              "      try {\n",
              "        const charts = await google.colab.kernel.invokeFunction(\n",
              "            'suggestCharts', [key], {});\n",
              "      } catch (error) {\n",
              "        console.error('Error during call to suggestCharts:', error);\n",
              "      }\n",
              "      quickchartButtonEl.classList.remove('colab-df-spinner');\n",
              "      quickchartButtonEl.classList.add('colab-df-quickchart-complete');\n",
              "    }\n",
              "    (() => {\n",
              "      let quickchartButtonEl =\n",
              "        document.querySelector('#df-618e58a2-fbb1-4641-b46e-ad619d03dd0b button');\n",
              "      quickchartButtonEl.style.display =\n",
              "        google.colab.kernel.accessAllowed ? 'block' : 'none';\n",
              "    })();\n",
              "  </script>\n",
              "</div>\n",
              "\n",
              "    </div>\n",
              "  </div>\n"
            ],
            "application/vnd.google.colaboratory.intrinsic+json": {
              "type": "dataframe",
              "repr_error": "Out of range float values are not JSON compliant: nan"
            }
          },
          "metadata": {}
        }
      ]
    },
    {
      "cell_type": "code",
      "source": [
        "# Display basic information\n",
        "print(\"Dataset Shape:\", df.shape)\n",
        "print(\"\\nBasic Information:\")\n",
        "print(df.info())"
      ],
      "metadata": {
        "colab": {
          "base_uri": "https://localhost:8080/"
        },
        "id": "pD2sVG0aLg2U",
        "outputId": "0b789d5d-c12b-4945-d7ad-59d2eb677c93"
      },
      "execution_count": 5,
      "outputs": [
        {
          "output_type": "stream",
          "name": "stdout",
          "text": [
            "Dataset Shape: (14640, 15)\n",
            "\n",
            "Basic Information:\n",
            "<class 'pandas.core.frame.DataFrame'>\n",
            "RangeIndex: 14640 entries, 0 to 14639\n",
            "Data columns (total 15 columns):\n",
            " #   Column                        Non-Null Count  Dtype  \n",
            "---  ------                        --------------  -----  \n",
            " 0   tweet_id                      14640 non-null  int64  \n",
            " 1   airline_sentiment             14640 non-null  object \n",
            " 2   airline_sentiment_confidence  14640 non-null  float64\n",
            " 3   negativereason                9178 non-null   object \n",
            " 4   negativereason_confidence     10522 non-null  float64\n",
            " 5   airline                       14640 non-null  object \n",
            " 6   airline_sentiment_gold        40 non-null     object \n",
            " 7   name                          14640 non-null  object \n",
            " 8   negativereason_gold           32 non-null     object \n",
            " 9   retweet_count                 14640 non-null  int64  \n",
            " 10  text                          14640 non-null  object \n",
            " 11  tweet_coord                   1019 non-null   object \n",
            " 12  tweet_created                 14640 non-null  object \n",
            " 13  tweet_location                9907 non-null   object \n",
            " 14  user_timezone                 9820 non-null   object \n",
            "dtypes: float64(2), int64(2), object(11)\n",
            "memory usage: 1.7+ MB\n",
            "None\n"
          ]
        }
      ]
    },
    {
      "cell_type": "code",
      "source": [
        "# Check for missing values\n",
        "print(\"\\nMissing Values:\")\n",
        "print(df.isnull().sum())"
      ],
      "metadata": {
        "colab": {
          "base_uri": "https://localhost:8080/"
        },
        "id": "Nti_sLxqLoQh",
        "outputId": "ef6c81a6-d03c-4cc9-ad94-d0ba37c5d4ec"
      },
      "execution_count": 6,
      "outputs": [
        {
          "output_type": "stream",
          "name": "stdout",
          "text": [
            "\n",
            "Missing Values:\n",
            "tweet_id                            0\n",
            "airline_sentiment                   0\n",
            "airline_sentiment_confidence        0\n",
            "negativereason                   5462\n",
            "negativereason_confidence        4118\n",
            "airline                             0\n",
            "airline_sentiment_gold          14600\n",
            "name                                0\n",
            "negativereason_gold             14608\n",
            "retweet_count                       0\n",
            "text                                0\n",
            "tweet_coord                     13621\n",
            "tweet_created                       0\n",
            "tweet_location                   4733\n",
            "user_timezone                    4820\n",
            "dtype: int64\n"
          ]
        }
      ]
    },
    {
      "cell_type": "code",
      "source": [
        "# Display basic statistics of numeric columns\n",
        "print(\"\\nBasic Statistics:\")\n",
        "print(df.describe())"
      ],
      "metadata": {
        "colab": {
          "base_uri": "https://localhost:8080/"
        },
        "id": "SU8BWzkOLrmW",
        "outputId": "8ac189b7-5b58-46d3-d715-c804b0355be3"
      },
      "execution_count": 7,
      "outputs": [
        {
          "output_type": "stream",
          "name": "stdout",
          "text": [
            "\n",
            "Basic Statistics:\n",
            "           tweet_id  airline_sentiment_confidence  negativereason_confidence  \\\n",
            "count  1.464000e+04                  14640.000000               10522.000000   \n",
            "mean   5.692184e+17                      0.900169                   0.638298   \n",
            "std    7.791112e+14                      0.162830                   0.330440   \n",
            "min    5.675883e+17                      0.335000                   0.000000   \n",
            "25%    5.685592e+17                      0.692300                   0.360600   \n",
            "50%    5.694779e+17                      1.000000                   0.670600   \n",
            "75%    5.698905e+17                      1.000000                   1.000000   \n",
            "max    5.703106e+17                      1.000000                   1.000000   \n",
            "\n",
            "       retweet_count  \n",
            "count   14640.000000  \n",
            "mean        0.082650  \n",
            "std         0.745778  \n",
            "min         0.000000  \n",
            "25%         0.000000  \n",
            "50%         0.000000  \n",
            "75%         0.000000  \n",
            "max        44.000000  \n"
          ]
        }
      ]
    },
    {
      "cell_type": "code",
      "source": [
        "# Sample of unique values in categorical columns\n",
        "print(\"\\nSentiment Categories:\\n\")\n",
        "print(df['airline_sentiment'].value_counts())\n",
        "print(\"\\nAirlines:\\n\")\n",
        "print(df['airline'].value_counts())"
      ],
      "metadata": {
        "colab": {
          "base_uri": "https://localhost:8080/"
        },
        "id": "mTDZ8k5cL2K6",
        "outputId": "d121abaa-1455-4c93-d758-f8dc611795a4"
      },
      "execution_count": 8,
      "outputs": [
        {
          "output_type": "stream",
          "name": "stdout",
          "text": [
            "\n",
            "Sentiment Categories:\n",
            "\n",
            "airline_sentiment\n",
            "negative    9178\n",
            "neutral     3099\n",
            "positive    2363\n",
            "Name: count, dtype: int64\n",
            "\n",
            "Airlines:\n",
            "\n",
            "airline\n",
            "United            3822\n",
            "US Airways        2913\n",
            "American          2759\n",
            "Southwest         2420\n",
            "Delta             2222\n",
            "Virgin America     504\n",
            "Name: count, dtype: int64\n"
          ]
        }
      ]
    },
    {
      "cell_type": "code",
      "source": [
        "# Check date range\n",
        "df['tweet_created'] = pd.to_datetime(df['tweet_created'])\n",
        "print(\"Date Range:\\n\")\n",
        "print(\"Start Date:\", df['tweet_created'].min())\n",
        "print(\"End Date:\", df['tweet_created'].max())"
      ],
      "metadata": {
        "colab": {
          "base_uri": "https://localhost:8080/"
        },
        "id": "Kz6lTb4HJXDM",
        "outputId": "02719cfd-705e-4294-ff06-ec449d7bd275"
      },
      "execution_count": 9,
      "outputs": [
        {
          "output_type": "stream",
          "name": "stdout",
          "text": [
            "Date Range:\n",
            "\n",
            "Start Date: 2015-02-16 23:36:05-08:00\n",
            "End Date: 2015-02-24 11:53:37-08:00\n"
          ]
        }
      ]
    },
    {
      "cell_type": "code",
      "source": [
        "# Create a function to clean and preprocess the dataset\n",
        "def clean_dataset(df):\n",
        "    # Create a copy to avoid modifying original data\n",
        "    df_clean = df.copy()\n",
        "\n",
        "    # 1. Handle date/time\n",
        "    df_clean['tweet_created'] = pd.to_datetime(df_clean['tweet_created'])\n",
        "\n",
        "    # 2. Clean text data\n",
        "    df_clean['text_clean'] = df_clean['text'].fillna('')\n",
        "    df_clean['text_clean'] = df_clean['text_clean'].str.replace(r'http\\S+|www.\\S+', '', regex=True)  # Remove URLs\n",
        "    df_clean['text_clean'] = df_clean['text_clean'].str.replace(r'@\\w+', '', regex=True)  # Remove @mentions\n",
        "    df_clean['text_clean'] = df_clean['text_clean'].str.replace(r'[^a-zA-Z\\s]', ' ', regex=True)  # Remove special characters\n",
        "    df_clean['text_clean'] = df_clean['text_clean'].str.lower()  # Convert to lowercase\n",
        "\n",
        "    # 3. Create derived features\n",
        "    df_clean['tweet_length'] = df_clean['text_clean'].str.len()\n",
        "    df_clean['word_count'] = df_clean['text_clean'].str.split().str.len()\n",
        "\n",
        "    # 4. Handle missing values\n",
        "    numeric_cols = df_clean.select_dtypes(include=[np.number]).columns\n",
        "    df_clean[numeric_cols] = df_clean[numeric_cols].fillna(0)\n",
        "\n",
        "    # 5. Convert categorical variables\n",
        "    df_clean['sentiment_label'] = df_clean['airline_sentiment'].map({'negative': 0, 'neutral': 1, 'positive': 2})\n",
        "\n",
        "    # 6. Create time-based features\n",
        "    df_clean['hour'] = df_clean['tweet_created'].dt.hour\n",
        "    df_clean['day'] = df_clean['tweet_created'].dt.day\n",
        "    df_clean['day_of_week'] = df_clean['tweet_created'].dt.day_name()\n",
        "\n",
        "    return df_clean"
      ],
      "metadata": {
        "id": "rq-ETa27L7My"
      },
      "execution_count": 10,
      "outputs": []
    },
    {
      "cell_type": "code",
      "source": [
        "# Clean the data\n",
        "df_clean = clean_dataset(df)\n",
        "\n",
        "# Show the results\n",
        "print(\"Original Shape:\", df.shape)\n",
        "print(\"Cleaned Shape:\", df_clean.shape)\n",
        "print(\"\\nNew Features Added:\", [col for col in df_clean.columns if col not in df.columns])"
      ],
      "metadata": {
        "colab": {
          "base_uri": "https://localhost:8080/"
        },
        "id": "LJ6mAViiMaOB",
        "outputId": "a2e1007e-42d5-4088-a47b-d99070d05b7f"
      },
      "execution_count": 11,
      "outputs": [
        {
          "output_type": "stream",
          "name": "stdout",
          "text": [
            "Original Shape: (14640, 15)\n",
            "Cleaned Shape: (14640, 22)\n",
            "\n",
            "New Features Added: ['text_clean', 'tweet_length', 'word_count', 'sentiment_label', 'hour', 'day', 'day_of_week']\n"
          ]
        }
      ]
    },
    {
      "cell_type": "code",
      "source": [
        "# Display sample of cleaned data\n",
        "print(\"Sample of Cleaned Data:\")\n",
        "display(df_clean[['text_clean', 'sentiment_label', 'tweet_length', 'word_count', 'hour', 'day', 'day_of_week']].head())\n",
        "\n",
        "# Display basic statistics of new features\n",
        "print(\"\\nNew Features Statistics:\\n\")\n",
        "print(df_clean[['tweet_length', 'word_count']].describe())"
      ],
      "metadata": {
        "colab": {
          "base_uri": "https://localhost:8080/",
          "height": 432
        },
        "id": "460GnXCrMjyB",
        "outputId": "c27107c3-9293-41c6-e346-28aefff2c609"
      },
      "execution_count": 12,
      "outputs": [
        {
          "output_type": "stream",
          "name": "stdout",
          "text": [
            "Sample of Cleaned Data:\n"
          ]
        },
        {
          "output_type": "display_data",
          "data": {
            "text/plain": [
              "                                          text_clean  sentiment_label  \\\n",
              "0                                        what  said                 1   \n",
              "1   plus you ve added commercials to the experien...                2   \n",
              "2   i didn t today    must mean i need to take an...                1   \n",
              "3   it s really aggressive to blast obnoxious  en...                0   \n",
              "4           and it s a really big bad thing about it                0   \n",
              "\n",
              "   tweet_length  word_count  hour  day day_of_week  \n",
              "0            12           2    11   24     Tuesday  \n",
              "1            58           9    11   24     Tuesday  \n",
              "2            57          12    11   24     Tuesday  \n",
              "3           112          17    11   24     Tuesday  \n",
              "4            41          10    11   24     Tuesday  "
            ],
            "text/html": [
              "\n",
              "  <div id=\"df-dc6f8466-7f45-461c-b1b6-b30a9f636d6a\" class=\"colab-df-container\">\n",
              "    <div>\n",
              "<style scoped>\n",
              "    .dataframe tbody tr th:only-of-type {\n",
              "        vertical-align: middle;\n",
              "    }\n",
              "\n",
              "    .dataframe tbody tr th {\n",
              "        vertical-align: top;\n",
              "    }\n",
              "\n",
              "    .dataframe thead th {\n",
              "        text-align: right;\n",
              "    }\n",
              "</style>\n",
              "<table border=\"1\" class=\"dataframe\">\n",
              "  <thead>\n",
              "    <tr style=\"text-align: right;\">\n",
              "      <th></th>\n",
              "      <th>text_clean</th>\n",
              "      <th>sentiment_label</th>\n",
              "      <th>tweet_length</th>\n",
              "      <th>word_count</th>\n",
              "      <th>hour</th>\n",
              "      <th>day</th>\n",
              "      <th>day_of_week</th>\n",
              "    </tr>\n",
              "  </thead>\n",
              "  <tbody>\n",
              "    <tr>\n",
              "      <th>0</th>\n",
              "      <td>what  said</td>\n",
              "      <td>1</td>\n",
              "      <td>12</td>\n",
              "      <td>2</td>\n",
              "      <td>11</td>\n",
              "      <td>24</td>\n",
              "      <td>Tuesday</td>\n",
              "    </tr>\n",
              "    <tr>\n",
              "      <th>1</th>\n",
              "      <td>plus you ve added commercials to the experien...</td>\n",
              "      <td>2</td>\n",
              "      <td>58</td>\n",
              "      <td>9</td>\n",
              "      <td>11</td>\n",
              "      <td>24</td>\n",
              "      <td>Tuesday</td>\n",
              "    </tr>\n",
              "    <tr>\n",
              "      <th>2</th>\n",
              "      <td>i didn t today    must mean i need to take an...</td>\n",
              "      <td>1</td>\n",
              "      <td>57</td>\n",
              "      <td>12</td>\n",
              "      <td>11</td>\n",
              "      <td>24</td>\n",
              "      <td>Tuesday</td>\n",
              "    </tr>\n",
              "    <tr>\n",
              "      <th>3</th>\n",
              "      <td>it s really aggressive to blast obnoxious  en...</td>\n",
              "      <td>0</td>\n",
              "      <td>112</td>\n",
              "      <td>17</td>\n",
              "      <td>11</td>\n",
              "      <td>24</td>\n",
              "      <td>Tuesday</td>\n",
              "    </tr>\n",
              "    <tr>\n",
              "      <th>4</th>\n",
              "      <td>and it s a really big bad thing about it</td>\n",
              "      <td>0</td>\n",
              "      <td>41</td>\n",
              "      <td>10</td>\n",
              "      <td>11</td>\n",
              "      <td>24</td>\n",
              "      <td>Tuesday</td>\n",
              "    </tr>\n",
              "  </tbody>\n",
              "</table>\n",
              "</div>\n",
              "    <div class=\"colab-df-buttons\">\n",
              "\n",
              "  <div class=\"colab-df-container\">\n",
              "    <button class=\"colab-df-convert\" onclick=\"convertToInteractive('df-dc6f8466-7f45-461c-b1b6-b30a9f636d6a')\"\n",
              "            title=\"Convert this dataframe to an interactive table.\"\n",
              "            style=\"display:none;\">\n",
              "\n",
              "  <svg xmlns=\"http://www.w3.org/2000/svg\" height=\"24px\" viewBox=\"0 -960 960 960\">\n",
              "    <path d=\"M120-120v-720h720v720H120Zm60-500h600v-160H180v160Zm220 220h160v-160H400v160Zm0 220h160v-160H400v160ZM180-400h160v-160H180v160Zm440 0h160v-160H620v160ZM180-180h160v-160H180v160Zm440 0h160v-160H620v160Z\"/>\n",
              "  </svg>\n",
              "    </button>\n",
              "\n",
              "  <style>\n",
              "    .colab-df-container {\n",
              "      display:flex;\n",
              "      gap: 12px;\n",
              "    }\n",
              "\n",
              "    .colab-df-convert {\n",
              "      background-color: #E8F0FE;\n",
              "      border: none;\n",
              "      border-radius: 50%;\n",
              "      cursor: pointer;\n",
              "      display: none;\n",
              "      fill: #1967D2;\n",
              "      height: 32px;\n",
              "      padding: 0 0 0 0;\n",
              "      width: 32px;\n",
              "    }\n",
              "\n",
              "    .colab-df-convert:hover {\n",
              "      background-color: #E2EBFA;\n",
              "      box-shadow: 0px 1px 2px rgba(60, 64, 67, 0.3), 0px 1px 3px 1px rgba(60, 64, 67, 0.15);\n",
              "      fill: #174EA6;\n",
              "    }\n",
              "\n",
              "    .colab-df-buttons div {\n",
              "      margin-bottom: 4px;\n",
              "    }\n",
              "\n",
              "    [theme=dark] .colab-df-convert {\n",
              "      background-color: #3B4455;\n",
              "      fill: #D2E3FC;\n",
              "    }\n",
              "\n",
              "    [theme=dark] .colab-df-convert:hover {\n",
              "      background-color: #434B5C;\n",
              "      box-shadow: 0px 1px 3px 1px rgba(0, 0, 0, 0.15);\n",
              "      filter: drop-shadow(0px 1px 2px rgba(0, 0, 0, 0.3));\n",
              "      fill: #FFFFFF;\n",
              "    }\n",
              "  </style>\n",
              "\n",
              "    <script>\n",
              "      const buttonEl =\n",
              "        document.querySelector('#df-dc6f8466-7f45-461c-b1b6-b30a9f636d6a button.colab-df-convert');\n",
              "      buttonEl.style.display =\n",
              "        google.colab.kernel.accessAllowed ? 'block' : 'none';\n",
              "\n",
              "      async function convertToInteractive(key) {\n",
              "        const element = document.querySelector('#df-dc6f8466-7f45-461c-b1b6-b30a9f636d6a');\n",
              "        const dataTable =\n",
              "          await google.colab.kernel.invokeFunction('convertToInteractive',\n",
              "                                                    [key], {});\n",
              "        if (!dataTable) return;\n",
              "\n",
              "        const docLinkHtml = 'Like what you see? Visit the ' +\n",
              "          '<a target=\"_blank\" href=https://colab.research.google.com/notebooks/data_table.ipynb>data table notebook</a>'\n",
              "          + ' to learn more about interactive tables.';\n",
              "        element.innerHTML = '';\n",
              "        dataTable['output_type'] = 'display_data';\n",
              "        await google.colab.output.renderOutput(dataTable, element);\n",
              "        const docLink = document.createElement('div');\n",
              "        docLink.innerHTML = docLinkHtml;\n",
              "        element.appendChild(docLink);\n",
              "      }\n",
              "    </script>\n",
              "  </div>\n",
              "\n",
              "\n",
              "<div id=\"df-147f26b6-180f-440e-a55c-d28d807c15e6\">\n",
              "  <button class=\"colab-df-quickchart\" onclick=\"quickchart('df-147f26b6-180f-440e-a55c-d28d807c15e6')\"\n",
              "            title=\"Suggest charts\"\n",
              "            style=\"display:none;\">\n",
              "\n",
              "<svg xmlns=\"http://www.w3.org/2000/svg\" height=\"24px\"viewBox=\"0 0 24 24\"\n",
              "     width=\"24px\">\n",
              "    <g>\n",
              "        <path d=\"M19 3H5c-1.1 0-2 .9-2 2v14c0 1.1.9 2 2 2h14c1.1 0 2-.9 2-2V5c0-1.1-.9-2-2-2zM9 17H7v-7h2v7zm4 0h-2V7h2v10zm4 0h-2v-4h2v4z\"/>\n",
              "    </g>\n",
              "</svg>\n",
              "  </button>\n",
              "\n",
              "<style>\n",
              "  .colab-df-quickchart {\n",
              "      --bg-color: #E8F0FE;\n",
              "      --fill-color: #1967D2;\n",
              "      --hover-bg-color: #E2EBFA;\n",
              "      --hover-fill-color: #174EA6;\n",
              "      --disabled-fill-color: #AAA;\n",
              "      --disabled-bg-color: #DDD;\n",
              "  }\n",
              "\n",
              "  [theme=dark] .colab-df-quickchart {\n",
              "      --bg-color: #3B4455;\n",
              "      --fill-color: #D2E3FC;\n",
              "      --hover-bg-color: #434B5C;\n",
              "      --hover-fill-color: #FFFFFF;\n",
              "      --disabled-bg-color: #3B4455;\n",
              "      --disabled-fill-color: #666;\n",
              "  }\n",
              "\n",
              "  .colab-df-quickchart {\n",
              "    background-color: var(--bg-color);\n",
              "    border: none;\n",
              "    border-radius: 50%;\n",
              "    cursor: pointer;\n",
              "    display: none;\n",
              "    fill: var(--fill-color);\n",
              "    height: 32px;\n",
              "    padding: 0;\n",
              "    width: 32px;\n",
              "  }\n",
              "\n",
              "  .colab-df-quickchart:hover {\n",
              "    background-color: var(--hover-bg-color);\n",
              "    box-shadow: 0 1px 2px rgba(60, 64, 67, 0.3), 0 1px 3px 1px rgba(60, 64, 67, 0.15);\n",
              "    fill: var(--button-hover-fill-color);\n",
              "  }\n",
              "\n",
              "  .colab-df-quickchart-complete:disabled,\n",
              "  .colab-df-quickchart-complete:disabled:hover {\n",
              "    background-color: var(--disabled-bg-color);\n",
              "    fill: var(--disabled-fill-color);\n",
              "    box-shadow: none;\n",
              "  }\n",
              "\n",
              "  .colab-df-spinner {\n",
              "    border: 2px solid var(--fill-color);\n",
              "    border-color: transparent;\n",
              "    border-bottom-color: var(--fill-color);\n",
              "    animation:\n",
              "      spin 1s steps(1) infinite;\n",
              "  }\n",
              "\n",
              "  @keyframes spin {\n",
              "    0% {\n",
              "      border-color: transparent;\n",
              "      border-bottom-color: var(--fill-color);\n",
              "      border-left-color: var(--fill-color);\n",
              "    }\n",
              "    20% {\n",
              "      border-color: transparent;\n",
              "      border-left-color: var(--fill-color);\n",
              "      border-top-color: var(--fill-color);\n",
              "    }\n",
              "    30% {\n",
              "      border-color: transparent;\n",
              "      border-left-color: var(--fill-color);\n",
              "      border-top-color: var(--fill-color);\n",
              "      border-right-color: var(--fill-color);\n",
              "    }\n",
              "    40% {\n",
              "      border-color: transparent;\n",
              "      border-right-color: var(--fill-color);\n",
              "      border-top-color: var(--fill-color);\n",
              "    }\n",
              "    60% {\n",
              "      border-color: transparent;\n",
              "      border-right-color: var(--fill-color);\n",
              "    }\n",
              "    80% {\n",
              "      border-color: transparent;\n",
              "      border-right-color: var(--fill-color);\n",
              "      border-bottom-color: var(--fill-color);\n",
              "    }\n",
              "    90% {\n",
              "      border-color: transparent;\n",
              "      border-bottom-color: var(--fill-color);\n",
              "    }\n",
              "  }\n",
              "</style>\n",
              "\n",
              "  <script>\n",
              "    async function quickchart(key) {\n",
              "      const quickchartButtonEl =\n",
              "        document.querySelector('#' + key + ' button');\n",
              "      quickchartButtonEl.disabled = true;  // To prevent multiple clicks.\n",
              "      quickchartButtonEl.classList.add('colab-df-spinner');\n",
              "      try {\n",
              "        const charts = await google.colab.kernel.invokeFunction(\n",
              "            'suggestCharts', [key], {});\n",
              "      } catch (error) {\n",
              "        console.error('Error during call to suggestCharts:', error);\n",
              "      }\n",
              "      quickchartButtonEl.classList.remove('colab-df-spinner');\n",
              "      quickchartButtonEl.classList.add('colab-df-quickchart-complete');\n",
              "    }\n",
              "    (() => {\n",
              "      let quickchartButtonEl =\n",
              "        document.querySelector('#df-147f26b6-180f-440e-a55c-d28d807c15e6 button');\n",
              "      quickchartButtonEl.style.display =\n",
              "        google.colab.kernel.accessAllowed ? 'block' : 'none';\n",
              "    })();\n",
              "  </script>\n",
              "</div>\n",
              "\n",
              "    </div>\n",
              "  </div>\n"
            ],
            "application/vnd.google.colaboratory.intrinsic+json": {
              "type": "dataframe",
              "summary": "{\n  \"name\": \"print(df_clean[['tweet_length', 'word_count']]\",\n  \"rows\": 5,\n  \"fields\": [\n    {\n      \"column\": \"text_clean\",\n      \"properties\": {\n        \"dtype\": \"string\",\n        \"num_unique_values\": 5,\n        \"samples\": [\n          \" plus you ve added commercials to the experience    tacky \",\n          \" and it s a really big bad thing about it\",\n          \" i didn t today    must mean i need to take another trip \"\n        ],\n        \"semantic_type\": \"\",\n        \"description\": \"\"\n      }\n    },\n    {\n      \"column\": \"sentiment_label\",\n      \"properties\": {\n        \"dtype\": \"number\",\n        \"std\": 0,\n        \"min\": 0,\n        \"max\": 2,\n        \"num_unique_values\": 3,\n        \"samples\": [\n          1,\n          2,\n          0\n        ],\n        \"semantic_type\": \"\",\n        \"description\": \"\"\n      }\n    },\n    {\n      \"column\": \"tweet_length\",\n      \"properties\": {\n        \"dtype\": \"number\",\n        \"std\": 36,\n        \"min\": 12,\n        \"max\": 112,\n        \"num_unique_values\": 5,\n        \"samples\": [\n          58,\n          41,\n          57\n        ],\n        \"semantic_type\": \"\",\n        \"description\": \"\"\n      }\n    },\n    {\n      \"column\": \"word_count\",\n      \"properties\": {\n        \"dtype\": \"number\",\n        \"std\": 5,\n        \"min\": 2,\n        \"max\": 17,\n        \"num_unique_values\": 5,\n        \"samples\": [\n          9,\n          10,\n          12\n        ],\n        \"semantic_type\": \"\",\n        \"description\": \"\"\n      }\n    },\n    {\n      \"column\": \"hour\",\n      \"properties\": {\n        \"dtype\": \"int32\",\n        \"num_unique_values\": 1,\n        \"samples\": [\n          11\n        ],\n        \"semantic_type\": \"\",\n        \"description\": \"\"\n      }\n    },\n    {\n      \"column\": \"day\",\n      \"properties\": {\n        \"dtype\": \"int32\",\n        \"num_unique_values\": 1,\n        \"samples\": [\n          24\n        ],\n        \"semantic_type\": \"\",\n        \"description\": \"\"\n      }\n    },\n    {\n      \"column\": \"day_of_week\",\n      \"properties\": {\n        \"dtype\": \"category\",\n        \"num_unique_values\": 1,\n        \"samples\": [\n          \"Tuesday\"\n        ],\n        \"semantic_type\": \"\",\n        \"description\": \"\"\n      }\n    }\n  ]\n}"
            }
          },
          "metadata": {}
        },
        {
          "output_type": "stream",
          "name": "stdout",
          "text": [
            "\n",
            "New Features Statistics:\n",
            "\n",
            "       tweet_length    word_count\n",
            "count  14640.000000  14640.000000\n",
            "mean      90.665096     16.469399\n",
            "std       36.661691      6.999655\n",
            "min        2.000000      1.000000\n",
            "25%       62.000000     11.000000\n",
            "50%      100.000000     18.000000\n",
            "75%      123.000000     22.000000\n",
            "max      176.000000     33.000000\n"
          ]
        }
      ]
    },
    {
      "cell_type": "markdown",
      "source": [
        "### Sentiment Analysis and Airlines Performance"
      ],
      "metadata": {
        "id": "j7UPCqrtvazI"
      }
    },
    {
      "cell_type": "code",
      "source": [
        "# Overall sentiment distribution by airline\n",
        "plt.figure(figsize=(12, 6))\n",
        "sns.countplot(data=df_clean, x='airline', hue='airline_sentiment')\n",
        "plt.title('Sentiment Distribution by Airline')\n",
        "plt.xticks(rotation=45, ha='right')\n",
        "plt.show()"
      ],
      "metadata": {
        "colab": {
          "base_uri": "https://localhost:8080/",
          "height": 632
        },
        "id": "W3X9dqFpMtmc",
        "outputId": "47580eea-dd87-4c3a-a595-17e44891c9b7"
      },
      "execution_count": 13,
      "outputs": [
        {
          "output_type": "display_data",
          "data": {
            "text/plain": [
              "<Figure size 1200x600 with 1 Axes>"
            ],
            "image/png": "[encoded data removed]"
          },
          "metadata": {}
        }
      ]
    },
    {
      "cell_type": "code",
      "source": [
        "# Calculate sentiment percentages for each airline\n",
        "sentiment_by_airline = pd.crosstab(df_clean['airline'], df_clean['airline_sentiment'], normalize='index') * 100\n",
        "print(\"Sentiment Percentages by Airline:\\n\")\n",
        "print(sentiment_by_airline)"
      ],
      "metadata": {
        "colab": {
          "base_uri": "https://localhost:8080/"
        },
        "id": "RHdUclgFOcPx",
        "outputId": "3a63edae-ce42-4801-b31c-197aabd08167"
      },
      "execution_count": 14,
      "outputs": [
        {
          "output_type": "stream",
          "name": "stdout",
          "text": [
            "Sentiment Percentages by Airline:\n",
            "\n",
            "airline_sentiment   negative    neutral   positive\n",
            "airline                                           \n",
            "American           71.040232  16.781443  12.178325\n",
            "Delta              42.979298  32.538254  24.482448\n",
            "Southwest          49.008264  27.438017  23.553719\n",
            "US Airways         77.686234  13.079300   9.234466\n",
            "United             68.890633  18.236525  12.872841\n",
            "Virgin America     35.912698  33.928571  30.158730\n"
          ]
        }
      ]
    },
    {
      "cell_type": "code",
      "source": [
        "# Time-based analysis\n",
        "df_clean['date'] = df_clean['tweet_created'].dt.date\n",
        "daily_sentiment = df_clean.groupby(['date', 'airline'])['sentiment_label'].mean().unstack()\n",
        "\n",
        "plt.figure(figsize=(15, 8))\n",
        "daily_sentiment.plot(marker='o')\n",
        "plt.title('Daily Sentiment Trends by Airline')\n",
        "plt.xlabel('Date')\n",
        "plt.xticks(rotation=45, ha='right')\n",
        "plt.ylabel('AVG Sentiment (0=Negative, 1=Neutral, 2=Positive)')\n",
        "plt.legend(title='Airline', bbox_to_anchor=(1.05, 1), loc='upper left')\n",
        "plt.tight_layout()\n",
        "plt.show()"
      ],
      "metadata": {
        "colab": {
          "base_uri": "https://localhost:8080/",
          "height": 503
        },
        "id": "8v4Z3CXoOiVq",
        "outputId": "996be216-a395-41f2-8e4d-6019c62a974d"
      },
      "execution_count": 15,
      "outputs": [
        {
          "output_type": "display_data",
          "data": {
            "text/plain": [
              "<Figure size 1500x800 with 0 Axes>"
            ]
          },
          "metadata": {}
        },
        {
          "output_type": "display_data",
          "data": {
            "text/plain": [
              "<Figure size 640x480 with 1 Axes>"
            ],
            "image/png": "[encoded data removed]"
          },
          "metadata": {}
        }
      ]
    },
    {
      "cell_type": "markdown",
      "source": [
        "### User Activity Patterns"
      ],
      "metadata": {
        "id": "cPvrBH42xQfL"
      }
    },
    {
      "cell_type": "code",
      "source": [
        "# Hourly activity patterns\n",
        "plt.figure(figsize=(10, 6))\n",
        "sns.countplot(data=df_clean, x='hour', color='lightblue')\n",
        "plt.title('Tweet Volume by Hour of Day')\n",
        "plt.xlabel('Hour')\n",
        "plt.xticks(rotation=45, ha='right')\n",
        "plt.ylabel('Number of Tweets')\n",
        "plt.show()\n",
        "print()\n",
        "\n",
        "# Day of week patterns\n",
        "plt.figure(figsize=(10, 6))\n",
        "order = ['Monday', 'Tuesday', 'Wednesday', 'Thursday', 'Friday', 'Saturday', 'Sunday']\n",
        "sns.countplot(data=df_clean, x='day_of_week', order=order, hue='day_of_week')\n",
        "plt.title('Tweet Volume by Day of Week')\n",
        "plt.xlabel('Day of Week')\n",
        "plt.xticks(rotation=45)\n",
        "plt.show()"
      ],
      "metadata": {
        "colab": {
          "base_uri": "https://localhost:8080/",
          "height": 1000
        },
        "id": "nm1zECGbOk9b",
        "outputId": "77af6425-0b76-42bb-eb56-11d35130f129"
      },
      "execution_count": 16,
      "outputs": [
        {
          "output_type": "display_data",
          "data": {
            "text/plain": [
              "<Figure size 1000x600 with 1 Axes>"
            ],
            "image/png": "[encoded data removed]"
          },
          "metadata": {}
        },
        {
          "output_type": "stream",
          "name": "stdout",
          "text": [
            "\n"
          ]
        },
        {
          "output_type": "display_data",
          "data": {
            "text/plain": [
              "<Figure size 1000x600 with 1 Axes>"
            ],
            "image/png": "[encoded data removed]"
          },
          "metadata": {}
        }
      ]
    },
    {
      "cell_type": "markdown",
      "source": [
        "### Text Analysis"
      ],
      "metadata": {
        "id": "VLCEptlBy1s2"
      }
    },
    {
      "cell_type": "code",
      "source": [
        "# Create a function to extract most common words from a text\n",
        "from collections import Counter\n",
        "import re\n",
        "\n",
        "def get_common_words(text_series, n=10):\n",
        "    words = ' '.join(text_series).split()\n",
        "    word_counts = Counter(words)\n",
        "    return pd.DataFrame(word_counts.most_common(n), columns=['word', 'count'])\n",
        "\n",
        "# Get common words by sentiment\n",
        "negative_words = get_common_words(df_clean[df_clean['airline_sentiment'] == 'negative']['text_clean'])\n",
        "positive_words = get_common_words(df_clean[df_clean['airline_sentiment'] == 'positive']['text_clean'])\n",
        "\n",
        "print(\"Most Common Words in Negative Tweets:\\n\")\n",
        "print(negative_words)\n",
        "print(\"\\nMost Common Words in Positive Tweets:\\n\")\n",
        "print(positive_words)"
      ],
      "metadata": {
        "colab": {
          "base_uri": "https://localhost:8080/"
        },
        "id": "Dm8JOyeD348Q",
        "outputId": "4318b76d-45a2-46e7-da6b-65be10f9c010"
      },
      "execution_count": 17,
      "outputs": [
        {
          "output_type": "stream",
          "name": "stdout",
          "text": [
            "Most Common Words in Negative Tweets:\n",
            "\n",
            "     word  count\n",
            "0      to   6049\n",
            "1       i   4565\n",
            "2     the   4116\n",
            "3       a   3225\n",
            "4  flight   2959\n",
            "5     and   2825\n",
            "6      on   2792\n",
            "7     you   2722\n",
            "8     for   2716\n",
            "9      my   2406\n",
            "\n",
            "Most Common Words in Positive Tweets:\n",
            "\n",
            "     word  count\n",
            "0     the    972\n",
            "1      to    938\n",
            "2     you    913\n",
            "3       i    754\n",
            "4     for    670\n",
            "5  thanks    611\n",
            "6       a    544\n",
            "7   thank    454\n",
            "8     and    451\n",
            "9  flight    382\n"
          ]
        }
      ]
    },
    {
      "cell_type": "markdown",
      "source": [
        "### Response Time Analysis"
      ],
      "metadata": {
        "id": "SpX8taStzcPD"
      }
    },
    {
      "cell_type": "code",
      "source": [
        "# Calculate average tweet length and response counts by hour\n",
        "hourly_metrics = df_clean.groupby('hour').agg({\n",
        "    'tweet_length': 'mean',\n",
        "    'airline_sentiment': 'count'\n",
        "}).reset_index()\n",
        "\n",
        "fig, ax1 = plt.subplots(figsize=(12, 6))\n",
        "\n",
        "ax1.set_xlabel('Hour of Day')\n",
        "ax1.set_ylabel('Average Tweet Length')\n",
        "ax1.plot(hourly_metrics['hour'], hourly_metrics['tweet_length'], color='tab:blue')\n",
        "\n",
        "ax2 = ax1.twinx()\n",
        "ax2.set_ylabel('Number of Tweets')\n",
        "ax2.plot(hourly_metrics['hour'], hourly_metrics['airline_sentiment'], color='tab:orange')\n",
        "\n",
        "plt.title('Tweet Length and Volume by Hour')\n",
        "plt.show()"
      ],
      "metadata": {
        "colab": {
          "base_uri": "https://localhost:8080/",
          "height": 564
        },
        "id": "-LySJ_UQ4AbA",
        "outputId": "1569e77e-9df9-45a7-f07c-2ba438d6bc66"
      },
      "execution_count": 18,
      "outputs": [
        {
          "output_type": "display_data",
          "data": {
            "text/plain": [
              "<Figure size 1200x600 with 2 Axes>"
            ],
            "image/png": "[encoded data removed]"
          },
          "metadata": {}
        }
      ]
    },
    {
      "cell_type": "code",
      "source": [
        "# Save cleaned data\n",
        "df_clean.to_csv('data/cleaned_tweets.csv', index=False)"
      ],
      "metadata": {
        "id": "QChkUg1OIZ5Q"
      },
      "execution_count": 19,
      "outputs": []
    },
    {
      "cell_type": "markdown",
      "source": [
        "### Interactive Dashboard with Streamlit"
      ],
      "metadata": {
        "id": "yVjwY4xmGNsT"
      }
    },
    {
      "cell_type": "code",
      "source": [
        "# Install Streamlit\n",
        "!pip install streamlit"
      ],
      "metadata": {
        "colab": {
          "base_uri": "https://localhost:8080/"
        },
        "id": "w5ueZQXyMOKC",
        "outputId": "5381748f-4e1f-4e23-e365-893bf78c8ddd"
      },
      "execution_count": 20,
      "outputs": [
        {
          "output_type": "stream",
          "name": "stdout",
          "text": [
            "Collecting streamlit\n",
            "  Downloading streamlit-1.41.1-py2.py3-none-any.whl.metadata (8.5 kB)\n",
            "Requirement already satisfied: altair<6,>=4.0 in /usr/local/lib/python3.10/dist-packages (from streamlit) (5.5.0)\n",
            "Requirement already satisfied: blinker<2,>=1.0.0 in /usr/local/lib/python3.10/dist-packages (from streamlit) (1.9.0)\n",
            "Requirement already satisfied: cachetools<6,>=4.0 in /usr/local/lib/python3.10/dist-packages (from streamlit) (5.5.0)\n",
            "Requirement already satisfied: click<9,>=7.0 in /usr/local/lib/python3.10/dist-packages (from streamlit) (8.1.7)\n",
            "Requirement already satisfied: numpy<3,>=1.23 in /usr/local/lib/python3.10/dist-packages (from streamlit) (1.26.4)\n",
            "Requirement already satisfied: packaging<25,>=20 in /usr/local/lib/python3.10/dist-packages (from streamlit) (24.2)\n",
            "Requirement already satisfied: pandas<3,>=1.4.0 in /usr/local/lib/python3.10/dist-packages (from streamlit) (2.2.2)\n",
            "Requirement already satisfied: pillow<12,>=7.1.0 in /usr/local/lib/python3.10/dist-packages (from streamlit) (11.0.0)\n",
            "Requirement already satisfied: protobuf<6,>=3.20 in /usr/local/lib/python3.10/dist-packages (from streamlit) (4.25.5)\n",
            "Requirement already satisfied: pyarrow>=7.0 in /usr/local/lib/python3.10/dist-packages (from streamlit) (17.0.0)\n",
            "Requirement already satisfied: requests<3,>=2.27 in /usr/local/lib/python3.10/dist-packages (from streamlit) (2.32.3)\n",
            "Requirement already satisfied: rich<14,>=10.14.0 in /usr/local/lib/python3.10/dist-packages (from streamlit) (13.9.4)\n",
            "Requirement already satisfied: tenacity<10,>=8.1.0 in /usr/local/lib/python3.10/dist-packages (from streamlit) (9.0.0)\n",
            "Requirement already satisfied: toml<2,>=0.10.1 in /usr/local/lib/python3.10/dist-packages (from streamlit) (0.10.2)\n",
            "Requirement already satisfied: typing-extensions<5,>=4.3.0 in /usr/local/lib/python3.10/dist-packages (from streamlit) (4.12.2)\n",
            "Collecting watchdog<7,>=2.1.5 (from streamlit)\n",
            "  Downloading watchdog-6.0.0-py3-none-manylinux2014_x86_64.whl.metadata (44 kB)\n",
            "\u001b[2K     \u001b[90m━━━━━━━━━━━━━━━━━━━━━━━━━━━━━━━━━━━━━━━━\u001b[0m \u001b[32m44.3/44.3 kB\u001b[0m \u001b[31m1.7 MB/s\u001b[0m eta \u001b[36m0:00:00\u001b[0m\n",
            "\u001b[?25hRequirement already satisfied: gitpython!=3.1.19,<4,>=3.0.7 in /usr/local/lib/python3.10/dist-packages (from streamlit) (3.1.43)\n",
            "Collecting pydeck<1,>=0.8.0b4 (from streamlit)\n",
            "  Downloading pydeck-0.9.1-py2.py3-none-any.whl.metadata (4.1 kB)\n",
            "Requirement already satisfied: tornado<7,>=6.0.3 in /usr/local/lib/python3.10/dist-packages (from streamlit) (6.3.3)\n",
            "Requirement already satisfied: jinja2 in /usr/local/lib/python3.10/dist-packages (from altair<6,>=4.0->streamlit) (3.1.4)\n",
            "Requirement already satisfied: jsonschema>=3.0 in /usr/local/lib/python3.10/dist-packages (from altair<6,>=4.0->streamlit) (4.23.0)\n",
            "Requirement already satisfied: narwhals>=1.14.2 in /usr/local/lib/python3.10/dist-packages (from altair<6,>=4.0->streamlit) (1.18.4)\n",
            "Requirement already satisfied: gitdb<5,>=4.0.1 in /usr/local/lib/python3.10/dist-packages (from gitpython!=3.1.19,<4,>=3.0.7->streamlit) (4.0.11)\n",
            "Requirement already satisfied: python-dateutil>=2.8.2 in /usr/local/lib/python3.10/dist-packages (from pandas<3,>=1.4.0->streamlit) (2.8.2)\n",
            "Requirement already satisfied: pytz>=2020.1 in /usr/local/lib/python3.10/dist-packages (from pandas<3,>=1.4.0->streamlit) (2024.2)\n",
            "Requirement already satisfied: tzdata>=2022.7 in /usr/local/lib/python3.10/dist-packages (from pandas<3,>=1.4.0->streamlit) (2024.2)\n",
            "Requirement already satisfied: charset-normalizer<4,>=2 in /usr/local/lib/python3.10/dist-packages (from requests<3,>=2.27->streamlit) (3.4.0)\n",
            "Requirement already satisfied: idna<4,>=2.5 in /usr/local/lib/python3.10/dist-packages (from requests<3,>=2.27->streamlit) (3.10)\n",
            "Requirement already satisfied: urllib3<3,>=1.21.1 in /usr/local/lib/python3.10/dist-packages (from requests<3,>=2.27->streamlit) (2.2.3)\n",
            "Requirement already satisfied: certifi>=2017.4.17 in /usr/local/lib/python3.10/dist-packages (from requests<3,>=2.27->streamlit) (2024.12.14)\n",
            "Requirement already satisfied: markdown-it-py>=2.2.0 in /usr/local/lib/python3.10/dist-packages (from rich<14,>=10.14.0->streamlit) (3.0.0)\n",
            "Requirement already satisfied: pygments<3.0.0,>=2.13.0 in /usr/local/lib/python3.10/dist-packages (from rich<14,>=10.14.0->streamlit) (2.18.0)\n",
            "Requirement already satisfied: smmap<6,>=3.0.1 in /usr/local/lib/python3.10/dist-packages (from gitdb<5,>=4.0.1->gitpython!=3.1.19,<4,>=3.0.7->streamlit) (5.0.1)\n",
            "Requirement already satisfied: MarkupSafe>=2.0 in /usr/local/lib/python3.10/dist-packages (from jinja2->altair<6,>=4.0->streamlit) (3.0.2)\n",
            "Requirement already satisfied: attrs>=22.2.0 in /usr/local/lib/python3.10/dist-packages (from jsonschema>=3.0->altair<6,>=4.0->streamlit) (24.3.0)\n",
            "Requirement already satisfied: jsonschema-specifications>=2023.03.6 in /usr/local/lib/python3.10/dist-packages (from jsonschema>=3.0->altair<6,>=4.0->streamlit) (2024.10.1)\n",
            "Requirement already satisfied: referencing>=0.28.4 in /usr/local/lib/python3.10/dist-packages (from jsonschema>=3.0->altair<6,>=4.0->streamlit) (0.35.1)\n",
            "Requirement already satisfied: rpds-py>=0.7.1 in /usr/local/lib/python3.10/dist-packages (from jsonschema>=3.0->altair<6,>=4.0->streamlit) (0.22.3)\n",
            "Requirement already satisfied: mdurl~=0.1 in /usr/local/lib/python3.10/dist-packages (from markdown-it-py>=2.2.0->rich<14,>=10.14.0->streamlit) (0.1.2)\n",
            "Requirement already satisfied: six>=1.5 in /usr/local/lib/python3.10/dist-packages (from python-dateutil>=2.8.2->pandas<3,>=1.4.0->streamlit) (1.17.0)\n",
            "Downloading streamlit-1.41.1-py2.py3-none-any.whl (9.1 MB)\n",
            "\u001b[2K   \u001b[90m━━━━━━━━━━━━━━━━━━━━━━━━━━━━━━━━━━━━━━━━\u001b[0m \u001b[32m9.1/9.1 MB\u001b[0m \u001b[31m60.0 MB/s\u001b[0m eta \u001b[36m0:00:00\u001b[0m\n",
            "\u001b[?25hDownloading pydeck-0.9.1-py2.py3-none-any.whl (6.9 MB)\n",
            "\u001b[2K   \u001b[90m━━━━━━━━━━━━━━━━━━━━━━━━━━━━━━━━━━━━━━━━\u001b[0m \u001b[32m6.9/6.9 MB\u001b[0m \u001b[31m85.0 MB/s\u001b[0m eta \u001b[36m0:00:00\u001b[0m\n",
            "\u001b[?25hDownloading watchdog-6.0.0-py3-none-manylinux2014_x86_64.whl (79 kB)\n",
            "\u001b[2K   \u001b[90m━━━━━━━━━━━━━━━━━━━━━━━━━━━━━━━━━━━━━━━━\u001b[0m \u001b[32m79.1/79.1 kB\u001b[0m \u001b[31m5.4 MB/s\u001b[0m eta \u001b[36m0:00:00\u001b[0m\n",
            "\u001b[?25hInstalling collected packages: watchdog, pydeck, streamlit\n",
            "Successfully installed pydeck-0.9.1 streamlit-1.41.1 watchdog-6.0.0\n"
          ]
        }
      ]
    },
    {
      "cell_type": "code",
      "source": [
        "%%writefile dashboard.py\n",
        "import pandas as pd\n",
        "import streamlit as st\n",
        "import plotly.express as px\n",
        "import plotly.graph_objects as go\n",
        "\n",
        "# Set page configuration\n",
        "st.set_page_config(page_title=\"Airline Social Media Analysis\", layout=\"wide\")\n",
        "\n",
        "# Load data\n",
        "df = pd.read_csv('data/cleaned_tweets.csv')\n",
        "df['tweet_created'] = pd.to_datetime(df['tweet_created'])\n",
        "\n",
        "# Title and description\n",
        "st.title('✈️ Airline Social Media Analytics Dashboard')\n",
        "st.markdown('Analysis of customer sentiment and engagement across major airlines')\n",
        "\n",
        "# Sidebar filters\n",
        "st.sidebar.header('Filters')\n",
        "airline_filter = st.sidebar.multiselect(\n",
        "    'Select Airlines',\n",
        "    options=df['airline'].unique(),\n",
        "    default=df['airline'].unique()\n",
        ")\n",
        "\n",
        "# Filter data based on selection\n",
        "filtered_df = df[df['airline'].isin(airline_filter)]\n",
        "\n",
        "# Key Metrics Row\n",
        "col1, col2, col3, col4 = st.columns(4)\n",
        "with col1:\n",
        "    st.metric(\"Total Tweets\", len(filtered_df))\n",
        "with col2:\n",
        "    positive_pct = (filtered_df['airline_sentiment'] == 'positive').mean() * 100\n",
        "    st.metric(\"Positive Sentiment\", f\"{positive_pct:.1f}%\")\n",
        "with col3:\n",
        "    peak_hour = filtered_df.groupby('hour')['text'].count().idxmax()\n",
        "    st.metric(\"Peak Activity Hour\", f\"{peak_hour}:00\")\n",
        "with col4:\n",
        "    most_active = filtered_df['airline'].mode()[0]\n",
        "    st.metric(\"Most Active Airline\", most_active)\n",
        "\n",
        "# First row of charts\n",
        "st.subheader('Sentiment Analysis')\n",
        "col1, col2 = st.columns(2)\n",
        "\n",
        "with col1:\n",
        "    # Sentiment Distribution by Airline\n",
        "    sentiment_dist = px.bar(\n",
        "        filtered_df.groupby('airline')['airline_sentiment'].value_counts(normalize=True).unstack() * 100,\n",
        "        title='Sentiment Distribution by Airline',\n",
        "        color_discrete_sequence=['#FF6B6B', '#4ECDC4', '#45B7D1']\n",
        "    )\n",
        "    sentiment_dist.update_layout(height=400)\n",
        "    st.plotly_chart(sentiment_dist, use_container_width=True)\n",
        "\n",
        "with col2:\n",
        "    # Overall Sentiment Distribution\n",
        "    pie_chart = px.pie(\n",
        "        filtered_df,\n",
        "        names='airline_sentiment',\n",
        "        title='Overall Sentiment Distribution',\n",
        "        color_discrete_sequence=['#FF6B6B', '#4ECDC4', '#45B7D1']\n",
        "    )\n",
        "    pie_chart.update_layout(height=400)\n",
        "    st.plotly_chart(pie_chart, use_container_width=True)\n",
        "\n",
        "# Second row of charts\n",
        "st.subheader('Temporal Analysis')\n",
        "col1, col2 = st.columns(2)\n",
        "\n",
        "with col1:\n",
        "    # Hourly Activity Pattern\n",
        "    hourly_data = filtered_df.groupby('hour')['text'].count().reset_index()\n",
        "    hourly_fig = px.line(\n",
        "        hourly_data,\n",
        "        x='hour',\n",
        "        y='text',\n",
        "        title='Tweet Volume by Hour',\n",
        "        labels={'text': 'Number of Tweets', 'hour': 'Hour of Day'}\n",
        "    )\n",
        "    hourly_fig.update_layout(height=400)\n",
        "    st.plotly_chart(hourly_fig, use_container_width=True)\n",
        "\n",
        "with col2:\n",
        "    # Defining the correct order of days\n",
        "    day_order = ['Monday', 'Tuesday', 'Wednesday', 'Thursday', 'Friday', 'Saturday', 'Sunday']\n",
        "\n",
        "    # Weekly Pattern\n",
        "    weekly_data = filtered_df.groupby('day_of_week')['text'].count().reset_index()\n",
        "\n",
        "    # Convert day_of_week to categorical with specific order\n",
        "    weekly_data['day_of_week'] = pd.Categorical(weekly_data['day_of_week'],\n",
        "                                          categories=day_order,\n",
        "                                          ordered=True)\n",
        "    # Sort by the categorical order\n",
        "    weekly_data = weekly_data.sort_values('day_of_week')\n",
        "\n",
        "    weekly_fig = px.bar(\n",
        "        weekly_data,\n",
        "        x='day_of_week',\n",
        "        y='text',\n",
        "        title='Weekly Tweet Pattern',\n",
        "        labels={'text': 'Number of Tweets', 'day_of_week': 'Day of Week'},\n",
        "        category_orders={'day_of_week': day_order}  # Specify the order in the plot\n",
        "    )\n",
        "    weekly_fig.update_layout(height=400)\n",
        "    st.plotly_chart(weekly_fig, use_container_width=True)\n",
        "\n",
        "# Tweet Length Analysis\n",
        "st.subheader('Content Analysis')\n",
        "col1, col2 = st.columns(2)\n",
        "\n",
        "with col1:\n",
        "    # Tweet Length Distribution\n",
        "    length_hist = px.histogram(\n",
        "        filtered_df,\n",
        "        x='tweet_length',\n",
        "        title='Tweet Length Distribution',\n",
        "        nbins=50\n",
        "    )\n",
        "    length_hist.update_layout(height=400)\n",
        "    st.plotly_chart(length_hist, use_container_width=True)\n",
        "\n",
        "with col2:\n",
        "    # Average Tweet Length by Sentiment\n",
        "    avg_length = filtered_df.groupby('airline_sentiment')['tweet_length'].mean().reset_index()\n",
        "    length_bar = px.bar(\n",
        "        avg_length,\n",
        "        x='airline_sentiment',\n",
        "        y='tweet_length',\n",
        "        title='Average Tweet Length by Sentiment',\n",
        "        labels={'tweet_length': 'Average Length', 'airline_sentiment': 'Sentiment'}\n",
        "    )\n",
        "    length_bar.update_layout(height=400)\n",
        "    st.plotly_chart(length_bar, use_container_width=True)\n",
        "\n",
        "# Footer\n",
        "st.markdown('---')\n",
        "st.markdown('Dashboard created using Python, Pandas, and Streamlit')"
      ],
      "metadata": {
        "colab": {
          "base_uri": "https://localhost:8080/"
        },
        "id": "I-uMQd8qXEe_",
        "outputId": "67c12d02-bff8-4adc-cd21-24d9c51bce80"
      },
      "execution_count": 21,
      "outputs": [
        {
          "output_type": "stream",
          "name": "stdout",
          "text": [
            "Writing dashboard.py\n"
          ]
        }
      ]
    },
    {
      "cell_type": "code",
      "source": [
        "# Install additional packages and libraries\n",
        "!pip install pyngrok\n",
        "!pip install streamlit-option-menu\n",
        "\n",
        "from pyngrok import ngrok\n",
        "import time"
      ],
      "metadata": {
        "colab": {
          "base_uri": "https://localhost:8080/"
        },
        "id": "qw2CM30f2eZ4",
        "outputId": "49b9e92e-ee55-4838-edf3-ab5b0bcef49d"
      },
      "execution_count": 22,
      "outputs": [
        {
          "output_type": "stream",
          "name": "stdout",
          "text": [
            "Collecting pyngrok\n",
            "  Downloading pyngrok-7.2.2-py3-none-any.whl.metadata (8.4 kB)\n",
            "Requirement already satisfied: PyYAML>=5.1 in /usr/local/lib/python3.10/dist-packages (from pyngrok) (6.0.2)\n",
            "Downloading pyngrok-7.2.2-py3-none-any.whl (22 kB)\n",
            "Installing collected packages: pyngrok\n",
            "Successfully installed pyngrok-7.2.2\n",
            "Collecting streamlit-option-menu\n",
            "  Downloading streamlit_option_menu-0.4.0-py3-none-any.whl.metadata (2.5 kB)\n",
            "Requirement already satisfied: streamlit>=1.36 in /usr/local/lib/python3.10/dist-packages (from streamlit-option-menu) (1.41.1)\n",
            "Requirement already satisfied: altair<6,>=4.0 in /usr/local/lib/python3.10/dist-packages (from streamlit>=1.36->streamlit-option-menu) (5.5.0)\n",
            "Requirement already satisfied: blinker<2,>=1.0.0 in /usr/local/lib/python3.10/dist-packages (from streamlit>=1.36->streamlit-option-menu) (1.9.0)\n",
            "Requirement already satisfied: cachetools<6,>=4.0 in /usr/local/lib/python3.10/dist-packages (from streamlit>=1.36->streamlit-option-menu) (5.5.0)\n",
            "Requirement already satisfied: click<9,>=7.0 in /usr/local/lib/python3.10/dist-packages (from streamlit>=1.36->streamlit-option-menu) (8.1.7)\n",
            "Requirement already satisfied: numpy<3,>=1.23 in /usr/local/lib/python3.10/dist-packages (from streamlit>=1.36->streamlit-option-menu) (1.26.4)\n",
            "Requirement already satisfied: packaging<25,>=20 in /usr/local/lib/python3.10/dist-packages (from streamlit>=1.36->streamlit-option-menu) (24.2)\n",
            "Requirement already satisfied: pandas<3,>=1.4.0 in /usr/local/lib/python3.10/dist-packages (from streamlit>=1.36->streamlit-option-menu) (2.2.2)\n",
            "Requirement already satisfied: pillow<12,>=7.1.0 in /usr/local/lib/python3.10/dist-packages (from streamlit>=1.36->streamlit-option-menu) (11.0.0)\n",
            "Requirement already satisfied: protobuf<6,>=3.20 in /usr/local/lib/python3.10/dist-packages (from streamlit>=1.36->streamlit-option-menu) (4.25.5)\n",
            "Requirement already satisfied: pyarrow>=7.0 in /usr/local/lib/python3.10/dist-packages (from streamlit>=1.36->streamlit-option-menu) (17.0.0)\n",
            "Requirement already satisfied: requests<3,>=2.27 in /usr/local/lib/python3.10/dist-packages (from streamlit>=1.36->streamlit-option-menu) (2.32.3)\n",
            "Requirement already satisfied: rich<14,>=10.14.0 in /usr/local/lib/python3.10/dist-packages (from streamlit>=1.36->streamlit-option-menu) (13.9.4)\n",
            "Requirement already satisfied: tenacity<10,>=8.1.0 in /usr/local/lib/python3.10/dist-packages (from streamlit>=1.36->streamlit-option-menu) (9.0.0)\n",
            "Requirement already satisfied: toml<2,>=0.10.1 in /usr/local/lib/python3.10/dist-packages (from streamlit>=1.36->streamlit-option-menu) (0.10.2)\n",
            "Requirement already satisfied: typing-extensions<5,>=4.3.0 in /usr/local/lib/python3.10/dist-packages (from streamlit>=1.36->streamlit-option-menu) (4.12.2)\n",
            "Requirement already satisfied: watchdog<7,>=2.1.5 in /usr/local/lib/python3.10/dist-packages (from streamlit>=1.36->streamlit-option-menu) (6.0.0)\n",
            "Requirement already satisfied: gitpython!=3.1.19,<4,>=3.0.7 in /usr/local/lib/python3.10/dist-packages (from streamlit>=1.36->streamlit-option-menu) (3.1.43)\n",
            "Requirement already satisfied: pydeck<1,>=0.8.0b4 in /usr/local/lib/python3.10/dist-packages (from streamlit>=1.36->streamlit-option-menu) (0.9.1)\n",
            "Requirement already satisfied: tornado<7,>=6.0.3 in /usr/local/lib/python3.10/dist-packages (from streamlit>=1.36->streamlit-option-menu) (6.3.3)\n",
            "Requirement already satisfied: jinja2 in /usr/local/lib/python3.10/dist-packages (from altair<6,>=4.0->streamlit>=1.36->streamlit-option-menu) (3.1.4)\n",
            "Requirement already satisfied: jsonschema>=3.0 in /usr/local/lib/python3.10/dist-packages (from altair<6,>=4.0->streamlit>=1.36->streamlit-option-menu) (4.23.0)\n",
            "Requirement already satisfied: narwhals>=1.14.2 in /usr/local/lib/python3.10/dist-packages (from altair<6,>=4.0->streamlit>=1.36->streamlit-option-menu) (1.18.4)\n",
            "Requirement already satisfied: gitdb<5,>=4.0.1 in /usr/local/lib/python3.10/dist-packages (from gitpython!=3.1.19,<4,>=3.0.7->streamlit>=1.36->streamlit-option-menu) (4.0.11)\n",
            "Requirement already satisfied: python-dateutil>=2.8.2 in /usr/local/lib/python3.10/dist-packages (from pandas<3,>=1.4.0->streamlit>=1.36->streamlit-option-menu) (2.8.2)\n",
            "Requirement already satisfied: pytz>=2020.1 in /usr/local/lib/python3.10/dist-packages (from pandas<3,>=1.4.0->streamlit>=1.36->streamlit-option-menu) (2024.2)\n",
            "Requirement already satisfied: tzdata>=2022.7 in /usr/local/lib/python3.10/dist-packages (from pandas<3,>=1.4.0->streamlit>=1.36->streamlit-option-menu) (2024.2)\n",
            "Requirement already satisfied: charset-normalizer<4,>=2 in /usr/local/lib/python3.10/dist-packages (from requests<3,>=2.27->streamlit>=1.36->streamlit-option-menu) (3.4.0)\n",
            "Requirement already satisfied: idna<4,>=2.5 in /usr/local/lib/python3.10/dist-packages (from requests<3,>=2.27->streamlit>=1.36->streamlit-option-menu) (3.10)\n",
            "Requirement already satisfied: urllib3<3,>=1.21.1 in /usr/local/lib/python3.10/dist-packages (from requests<3,>=2.27->streamlit>=1.36->streamlit-option-menu) (2.2.3)\n",
            "Requirement already satisfied: certifi>=2017.4.17 in /usr/local/lib/python3.10/dist-packages (from requests<3,>=2.27->streamlit>=1.36->streamlit-option-menu) (2024.12.14)\n",
            "Requirement already satisfied: markdown-it-py>=2.2.0 in /usr/local/lib/python3.10/dist-packages (from rich<14,>=10.14.0->streamlit>=1.36->streamlit-option-menu) (3.0.0)\n",
            "Requirement already satisfied: pygments<3.0.0,>=2.13.0 in /usr/local/lib/python3.10/dist-packages (from rich<14,>=10.14.0->streamlit>=1.36->streamlit-option-menu) (2.18.0)\n",
            "Requirement already satisfied: smmap<6,>=3.0.1 in /usr/local/lib/python3.10/dist-packages (from gitdb<5,>=4.0.1->gitpython!=3.1.19,<4,>=3.0.7->streamlit>=1.36->streamlit-option-menu) (5.0.1)\n",
            "Requirement already satisfied: MarkupSafe>=2.0 in /usr/local/lib/python3.10/dist-packages (from jinja2->altair<6,>=4.0->streamlit>=1.36->streamlit-option-menu) (3.0.2)\n",
            "Requirement already satisfied: attrs>=22.2.0 in /usr/local/lib/python3.10/dist-packages (from jsonschema>=3.0->altair<6,>=4.0->streamlit>=1.36->streamlit-option-menu) (24.3.0)\n",
            "Requirement already satisfied: jsonschema-specifications>=2023.03.6 in /usr/local/lib/python3.10/dist-packages (from jsonschema>=3.0->altair<6,>=4.0->streamlit>=1.36->streamlit-option-menu) (2024.10.1)\n",
            "Requirement already satisfied: referencing>=0.28.4 in /usr/local/lib/python3.10/dist-packages (from jsonschema>=3.0->altair<6,>=4.0->streamlit>=1.36->streamlit-option-menu) (0.35.1)\n",
            "Requirement already satisfied: rpds-py>=0.7.1 in /usr/local/lib/python3.10/dist-packages (from jsonschema>=3.0->altair<6,>=4.0->streamlit>=1.36->streamlit-option-menu) (0.22.3)\n",
            "Requirement already satisfied: mdurl~=0.1 in /usr/local/lib/python3.10/dist-packages (from markdown-it-py>=2.2.0->rich<14,>=10.14.0->streamlit>=1.36->streamlit-option-menu) (0.1.2)\n",
            "Requirement already satisfied: six>=1.5 in /usr/local/lib/python3.10/dist-packages (from python-dateutil>=2.8.2->pandas<3,>=1.4.0->streamlit>=1.36->streamlit-option-menu) (1.17.0)\n",
            "Downloading streamlit_option_menu-0.4.0-py3-none-any.whl (829 kB)\n",
            "\u001b[2K   \u001b[90m━━━━━━━━━━━━━━━━━━━━━━━━━━━━━━━━━━━━━━━━\u001b[0m \u001b[32m829.3/829.3 kB\u001b[0m \u001b[31m8.4 MB/s\u001b[0m eta \u001b[36m0:00:00\u001b[0m\n",
            "\u001b[?25hInstalling collected packages: streamlit-option-menu\n",
            "Successfully installed streamlit-option-menu-0.4.0\n"
          ]
        }
      ]
    },
    {
      "cell_type": "markdown",
      "source": [
        "### Setup Instructions\n",
        "\n",
        "1. Get your ngrok authentication token:\n",
        "   - Sign up at ngrok.com (free)\n",
        "   - Go to https://dashboard.ngrok.com/auth/your-authtoken\n",
        "   - Copy your auth token\n",
        "\n",
        "2. Replace `YOUR_NGROK_AUTH_TOKEN` in the code below with your actual token\n",
        "\n",
        "3. Run the cell to start the dashboard\n",
        "\n",
        "Note: Never share your actual auth token publicly!"
      ],
      "metadata": {
        "id": "maBpyTTzK0a2"
      }
    },
    {
      "cell_type": "code",
      "source": [
        "# Kill any existing Streamlit processes\n",
        "!pkill -f streamlit || true\n",
        "\n",
        "# Authentication Setup\n",
        "AUTH_TOKEN = \"YOUR_NGROK_AUTH_TOKEN\"  # Replace with your ngrok auth token\n",
        "!ngrok authtoken $AUTH_TOKEN\n",
        "\n",
        "# Configure and start ngrok\n",
        "ngrok.kill()\n",
        "public_url = ngrok.connect(addr=\"8501\", proto=\"http\")\n",
        "print(f\"\\nNgrok URL: {public_url.public_url}\\n\")\n",
        "\n",
        "# Start Streamlit\n",
        "print(\"Starting Streamlit...\")\n",
        "!nohup streamlit run dashboard.py --server.port 8501 &"
      ],
      "metadata": {
        "id": "J4EFal7PKvpV"
      },
      "execution_count": null,
      "outputs": []
    },
    {
      "cell_type": "markdown",
      "source": [
        "## Key Findings\n",
        "1. **Sentiment Analysis**\n",
        "   - Overall negative sentiment dominance (approximately 62%)\n",
        "   - Virgin America had the highest positive sentiment ratio\n",
        "   - US Airways had the highest negative sentiment ratio\n",
        "\n",
        "2. **Temporal Patterns**\n",
        "   - Peak activity observed at 9 AM\n",
        "   - Higher engagement during Sundays, Mondays, and Tuesdays\n",
        "\n",
        "3. **Engagement Metrics**\n",
        "   - Average tweet length varied by sentiment, with negative tweets being the longest (average of 101 characters)\n",
        "   - This suggests customers tend to write more detailed feedback when expressing dissatisfaction\n",
        "\n",
        "## Visualizations\n",
        "\n",
        "The dashboard includes:\n",
        "\n",
        "- Sentiment distribution by airline\n",
        "- Hourly tweet volume patterns\n",
        "- Weekly engagement trends\n",
        "- Overall sentiment breakdown\n",
        "- Tweet length analysis\n",
        "\n",
        "## Future Improvements\n",
        "\n",
        "1. Real-time data collection using Twitter API\n",
        "2. Advanced sentiment analysis using machine learning\n",
        "3. Competitor analysis features\n",
        "4. Geographic distribution analysis\n",
        "5. Topic modeling for customer issues"
      ],
      "metadata": {
        "id": "mVYAhA6VqZKZ"
      }
    },
    {
      "cell_type": "code",
      "source": [],
      "metadata": {
        "id": "1cEKAPzrayJP"
      },
      "execution_count": 23,
      "outputs": []
    }
  ]
}